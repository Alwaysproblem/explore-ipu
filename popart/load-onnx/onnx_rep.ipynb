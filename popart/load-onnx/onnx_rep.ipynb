{
 "cells": [
  {
   "cell_type": "code",
   "execution_count": 1,
   "metadata": {},
   "outputs": [],
   "source": [
    "import onnx\n",
    "# import onnxruntime as ort\n",
    "from onnx.helper import make_node, make_attribute, make_model, make_tensor, make_graph, make_tensor_value_info\n",
    "from onnx import TensorProto, SparseTensorProto, AttributeProto, ValueInfoProto, \\\n",
    "    TensorShapeProto, NodeProto, ModelProto, GraphProto, OperatorSetIdProto, \\\n",
    "    TypeProto, SequenceProto, MapProto, IR_VERSION\n",
    "import numpy as np\n",
    "from copy import deepcopy"
   ]
  },
  {
   "cell_type": "code",
   "execution_count": 2,
   "metadata": {},
   "outputs": [],
   "source": [
    "m = onnx.load(\"qtc211-tf-ipu/qtcv211-wo-kv.onnx\")"
   ]
  },
  {
   "cell_type": "code",
   "execution_count": 4,
   "metadata": {},
   "outputs": [
    {
     "output_type": "execute_result",
     "data": {
      "text/plain": [
       "name: \"TensorDict/StandardKvParser_7:0\"\n",
       "type {\n",
       "  tensor_type {\n",
       "    elem_type: 7\n",
       "    shape {\n",
       "      dim {\n",
       "        dim_param: \"unk__2676\"\n",
       "      }\n",
       "      dim {\n",
       "        dim_value: 35\n",
       "      }\n",
       "    }\n",
       "  }\n",
       "}"
      ]
     },
     "metadata": {},
     "execution_count": 4
    }
   ],
   "source": [
    "m.graph.input[2]"
   ]
  },
  {
   "cell_type": "code",
   "execution_count": 5,
   "metadata": {},
   "outputs": [],
   "source": [
    "inputs = deepcopy(m.graph.input[2])"
   ]
  },
  {
   "cell_type": "code",
   "execution_count": 6,
   "metadata": {},
   "outputs": [
    {
     "output_type": "execute_result",
     "data": {
      "text/plain": [
       "name: \"reproducer\"\n",
       "input {\n",
       "  name: \"TensorDict/StandardKvParser_7:0\"\n",
       "  type {\n",
       "    tensor_type {\n",
       "      elem_type: 7\n",
       "      shape {\n",
       "        dim {\n",
       "          dim_param: \"unk__2676\"\n",
       "        }\n",
       "        dim {\n",
       "          dim_value: 35\n",
       "        }\n",
       "      }\n",
       "    }\n",
       "  }\n",
       "}"
      ]
     },
     "metadata": {},
     "execution_count": 6
    }
   ],
   "source": [
    "graph = make_graph(nodes=[], name=\"reproducer\", inputs=[inputs], outputs = [])\n",
    "graph"
   ]
  },
  {
   "cell_type": "code",
   "execution_count": null,
   "metadata": {},
   "outputs": [],
   "source": [
    "[]"
   ]
  }
 ],
 "metadata": {
  "kernelspec": {
   "display_name": "Python 3",
   "language": "python",
   "name": "python3"
  }
 },
 "nbformat": 4,
 "nbformat_minor": 2
}