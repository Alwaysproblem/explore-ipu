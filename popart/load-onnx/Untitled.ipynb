{
 "cells": [
  {
   "cell_type": "code",
   "execution_count": 1,
   "id": "90be863e",
   "metadata": {},
   "outputs": [],
   "source": [
    "import popart\n",
    "import onnx\n",
    "from onnx.helper import make_graph, make_attribute, make_node\n",
    "from onnx import TensorProto, SequenceProto\n",
    "import numpy as np\n",
    "from typing import *\n",
    "import time\n"
   ]
  },
  {
   "cell_type": "code",
   "execution_count": null,
   "metadata": {},
   "outputs": [],
   "source": [
    "from onnx import "
   ]
  },
  {
   "cell_type": "code",
   "execution_count": 2,
   "metadata": {},
   "outputs": [],
   "source": [
    "m = onnx.load(\"qtc211-tf-ipu/qtcv211-wo-kv.onnx\")"
   ]
  },
  {
   "cell_type": "code",
   "execution_count": 7,
   "metadata": {},
   "outputs": [],
   "source": [
    "for inp in m.graph.input:\n",
    "    inp.type.tensor_type.elem_type = 6"
   ]
  },
  {
   "cell_type": "code",
   "execution_count": null,
   "metadata": {},
   "outputs": [],
   "source": [
    "m.ir_version"
   ]
  },
  {
   "cell_type": "code",
   "execution_count": null,
   "metadata": {},
   "outputs": [],
   "source": [
    "onnx.checker.check_model(m, 1)"
   ]
  },
  {
   "cell_type": "code",
   "execution_count": null,
   "metadata": {},
   "outputs": [],
   "source": [
    "m.graph.node"
   ]
  },
  {
   "cell_type": "code",
   "execution_count": null,
   "metadata": {},
   "outputs": [],
   "source": [
    "m.graph.node[2].attribute[0].i = 6"
   ]
  },
  {
   "cell_type": "code",
   "execution_count": null,
   "metadata": {},
   "outputs": [],
   "source": [
    "onnx.save(m, \"ms.onnx\")"
   ]
  },
  {
   "cell_type": "code",
   "execution_count": null,
   "metadata": {},
   "outputs": [],
   "source": [
    "transformed_mode = popart.GraphTransformer(\"model.onnx\")\n",
    "transformed_mode.convertINT64ToINT32()"
   ]
  },
  {
   "cell_type": "code",
   "execution_count": null,
   "metadata": {},
   "outputs": [],
   "source": [
    "tm = onnx.load_from_string(transformed_mode.getModelProto())"
   ]
  },
  {
   "cell_type": "code",
   "execution_count": null,
   "metadata": {},
   "outputs": [],
   "source": [
    "tm.graph.input"
   ]
  },
  {
   "cell_type": "code",
   "execution_count": null,
   "metadata": {},
   "outputs": [],
   "source": [
    "tm.graph.node"
   ]
  },
  {
   "cell_type": "code",
   "execution_count": null,
   "metadata": {},
   "outputs": [],
   "source": [
    "tm.graph.node.insert(0, make_node(\"Cast\", [\"const_fold_opt__8\"], [\"const_fold_opt_int64_8\"], to = 7))"
   ]
  },
  {
   "cell_type": "code",
   "execution_count": null,
   "metadata": {},
   "outputs": [],
   "source": [
    "tm.graph.node[0]"
   ]
  },
  {
   "cell_type": "code",
   "execution_count": null,
   "metadata": {},
   "outputs": [],
   "source": [
    "tm.graph.node[2]"
   ]
  },
  {
   "cell_type": "code",
   "execution_count": null,
   "metadata": {},
   "outputs": [],
   "source": [
    "tm.graph.node[2].input[1] = \"const_fold_opt_int64_8\""
   ]
  },
  {
   "cell_type": "code",
   "execution_count": null,
   "metadata": {},
   "outputs": [],
   "source": [
    "tm.graph.node[2].attribute[0].i = 6"
   ]
  },
  {
   "cell_type": "code",
   "execution_count": null,
   "metadata": {},
   "outputs": [],
   "source": [
    "onnx.checker.check_model(tm, 1)"
   ]
  },
  {
   "cell_type": "code",
   "execution_count": null,
   "metadata": {},
   "outputs": [],
   "source": [
    "onnx.save(tm, \"model_conv.onnx\")"
   ]
  },
  {
   "cell_type": "code",
   "execution_count": null,
   "metadata": {},
   "outputs": [],
   "source": [
    "tm.graph.node[3].attribute[0].i = 6"
   ]
  },
  {
   "cell_type": "code",
   "execution_count": null,
   "metadata": {},
   "outputs": [],
   "source": [
    "m.graph.node[1].attribute[0].i = 6"
   ]
  },
  {
   "cell_type": "code",
   "execution_count": null,
   "metadata": {},
   "outputs": [],
   "source": [
    "[n for n in m.graph.node if n.op_type == \"Cast\" and n.attribute[0].i == 7]"
   ]
  },
  {
   "cell_type": "code",
   "execution_count": null,
   "metadata": {},
   "outputs": [],
   "source": [
    "len(m.graph.node)"
   ]
  },
  {
   "cell_type": "code",
   "execution_count": null,
   "metadata": {},
   "outputs": [],
   "source": [
    "def make_an_anchor(onnx_model_builder: popart.Builder, anchor_return_type: str = \"ALL\"):\n",
    "    return {output_name: popart.AnchorReturnType(anchor_return_type) \n",
    "                for output_name in onnx_model_builder.getOutputTensorIds()}\n",
    "\n",
    "def set_batch_size(shape: List, batch_size = 1):\n",
    "    \"\"\" shape is like [unknow_batch_size, n1, n2, ...] \"\"\"\n",
    "    shape[0] = batch_size if shape[0] == 0 else shape[0]\n",
    "    return shape\n",
    "\n",
    "def convert_popart_dtype(dtype: str):\n",
    "    dtype_conv_dic = {\n",
    "        \"int64\": \"INT32\",\n",
    "        \"int32\": \"INT32\",\n",
    "        \"float32\": \"FLOAT\",\n",
    "        \"float16\": \"FLOAT16\",\n",
    "        \"float64\": \"FLOAT\",\n",
    "    }\n",
    "\n",
    "    return dtype_conv_dic[dtype]\n",
    "\n",
    "def convert_numpy_dtype(dtype: str):\n",
    "    dtype_conv_dic = {\n",
    "        \"int64\": np.int32, \n",
    "        \"int32\": np.int32, \n",
    "        \"float32\": np.float32,\n",
    "        \"float\": np.float32,\n",
    "        \"float64\": np.float32,\n",
    "    }\n",
    "    return dtype_conv_dic[dtype.lower()]\n",
    "\n",
    "\n",
    "def add_shapeinfo_from_onnx(onnx_model_builder: popart.Builder, batch_size = 1, batch_per_step = 1):\n",
    "    inputs_tensor_id = onnx_model_builder.getInputTensorIds()\n",
    "    outputs_tensor_id = onnx_model_builder.getOutputTensorIds()\n",
    "\n",
    "    print(inputs_tensor_id)\n",
    "    inputs_shapes = [set_batch_size(onnx_model_builder.getTensorShape(i), \n",
    "                                batch_size=batch_size * batch_per_step) for i in inputs_tensor_id]\n",
    "    print(inputs_shapes)\n",
    "    inputs_dtypes = [convert_popart_dtype(onnx_model_builder.getTensorDtypeString(i)) for i in inputs_tensor_id]\n",
    "    print(inputs_dtypes)\n",
    "\n",
    "    inputs_tensor_shapes = [set_batch_size(onnx_model_builder.getTensorShape(i), \n",
    "                                batch_size=batch_size) for i in inputs_tensor_id + outputs_tensor_id]\n",
    "    inputs_tensor_dtypes = [convert_popart_dtype(onnx_model_builder.getTensorDtypeString(i)) for i in inputs_tensor_id + outputs_tensor_id]\n",
    "\n",
    "    inputShapeInfo = popart.InputShapeInfo()\n",
    "\n",
    "    for tid, tshape, tdype in zip(inputs_tensor_id + outputs_tensor_id, inputs_tensor_shapes, inputs_tensor_dtypes):\n",
    "        inputShapeInfo.add(tid, popart.TensorInfo(tdype, tshape))\n",
    "\n",
    "    return inputs_tensor_id, inputShapeInfo, inputs_shapes, inputs_dtypes\n",
    "\n",
    "\n",
    "def fake_dataset(inputs_tensor_id, inputs_shapes, inputs_dtypes, num_samples = 100):\n",
    "    for _ in range(num_samples):\n",
    "        yield { i: np.random.randint(12, size=s).astype(convert_numpy_dtype(d)) for i, s, d in zip(inputs_tensor_id, inputs_shapes, inputs_dtypes) }"
   ]
  },
  {
   "cell_type": "code",
   "execution_count": null,
   "metadata": {},
   "outputs": [],
   "source": [
    "batch_size = 1\n",
    "batch_per_step = 1\n",
    "global_batch_size = batch_per_step * batch_size\n",
    "epochs = 80\n",
    "n_sample = epochs + 10 * 2\n",
    "\n",
    "n_sample = 1\n",
    "\n",
    "builder = popart.Builder(\"qtc211-tf-ipu/qtcv211_wo_kv.onnx\")\n",
    "anchors = make_an_anchor(builder)\n",
    "inputs_tensor_id, inputShapeInfo, inputs_shapes, inputs_dtypes = add_shapeinfo_from_onnx(builder, batch_size=batch_size, batch_per_step = batch_per_step)\n",
    "# anchors = {output_name: popart.AnchorReturnType(\"All\") for output_name in builder.getOutputTensorIds() }\n",
    "dataflow = popart.DataFlow(batch_per_step, anchors)\n",
    "device = popart.DeviceManager().acquireAvailableDevice(2)\n",
    "# device = popart.DeviceManager().createCpuDevice()\n",
    "\n",
    "opts = popart.SessionOptions()\n",
    "opts.virtualGraphMode = popart.VirtualGraphMode.Auto\n",
    "# opts.enablePipelining = True\n",
    "partials_type = \"half\"\n",
    "opts.partialsTypeMatMuls = partials_type\n",
    "opts.convolutionOptions = {'partialsType': partials_type}\n",
    "# opts.groupHostSync = True\n",
    "\n",
    "session = popart.InferenceSession(builder.getModelProto(), dataflow, device, \n",
    "                                inputShapeInfo=inputShapeInfo,\n",
    "                                userOptions=opts)"
   ]
  },
  {
   "cell_type": "code",
   "execution_count": null,
   "metadata": {},
   "outputs": [],
   "source": [
    "builder.getTensorDtypeString('TensorDict/StandardKvParser:0')"
   ]
  },
  {
   "cell_type": "code",
   "execution_count": 34,
   "metadata": {},
   "outputs": [
    {
     "output_type": "execute_result",
     "data": {
      "text/plain": [
       "[input: \"reload_query/sub/x:0\"\n",
       " input: \"reload_query/ones_like__725:0\"\n",
       " output: \"reload_query/ones_like:0\"\n",
       " name: \"reload_query/ones_like\"\n",
       " op_type: \"Expand\",\n",
       " input: \"reload_query/sub/x:0\"\n",
       " input: \"reload_query/ToInt64_1:0\"\n",
       " output: \"reload_query/sub:0\"\n",
       " name: \"reload_query/sub\"\n",
       " op_type: \"Sub\",\n",
       " input: \"reload/semantics_cnn/strided_slice_4:0\"\n",
       " input: \"reload_query/sub/x:0\"\n",
       " output: \"reload/semantics_cnn/Equal_1:0\"\n",
       " name: \"reload/semantics_cnn/Equal_1\"\n",
       " op_type: \"Equal\",\n",
       " input: \"reload_qt/semantics_cnn/strided_slice_4:0\"\n",
       " input: \"reload_query/sub/x:0\"\n",
       " output: \"reload_qt/semantics_cnn/Equal_1:0\"\n",
       " name: \"reload_qt/semantics_cnn/Equal_1\"\n",
       " op_type: \"Equal\"]"
      ]
     },
     "metadata": {},
     "execution_count": 34
    }
   ],
   "source": [
    "[ n for n in m.graph.node if \"reload_query/sub/x:0\" in n.input]"
   ]
  },
  {
   "cell_type": "code",
   "execution_count": null,
   "metadata": {},
   "outputs": [],
   "source": [
    "for init in m.graph.initializer:\n",
    "    if init.name in {\"const_starts__708\", \"const_ends__709\", \"const_axes__728\", \"const_ends__727\"} and init.data_type == TensorProto.INT64:\n",
    "        init.data_type = TensorProto.INT32"
   ]
  },
  {
   "cell_type": "code",
   "execution_count": null,
   "metadata": {},
   "outputs": [],
   "source": [
    "[init for init in m.graph.initializer if init.data_type == 7 and \"const\" in init.name]"
   ]
  },
  {
   "cell_type": "code",
   "execution_count": 53,
   "metadata": {},
   "outputs": [],
   "source": [
    "onnx.checker.check_model(m, 1)"
   ]
  },
  {
   "cell_type": "code",
   "execution_count": null,
   "metadata": {},
   "outputs": [],
   "source": [
    "m.graph.initializer[5].name"
   ]
  },
  {
   "cell_type": "code",
   "execution_count": 10,
   "metadata": {},
   "outputs": [],
   "source": [
    "def get_info_by_name(model, name: str):\n",
    "    for ordn, node in enumerate(model.graph.node):\n",
    "        if node.name == name:\n",
    "            return ('node', ordn, node)\n",
    "    for ordn, init in enumerate(model.graph.initializer):\n",
    "        if node.name == name:\n",
    "            return ('initializer', ordn, init)\n",
    "    return \"Not Found\""
   ]
  },
  {
   "cell_type": "code",
   "execution_count": 11,
   "metadata": {},
   "outputs": [
    {
     "output_type": "execute_result",
     "data": {
      "text/plain": [
       "('node',\n",
       " 10,\n",
       " input: \"reload_query/strided_slice:0\"\n",
       " input: \"reload_qt/NotEqual/y:0\"\n",
       " output: \"reload_query/NotEqual:0\"\n",
       " name: \"reload_query/NotEqual\"\n",
       " op_type: \"Equal\")"
      ]
     },
     "metadata": {},
     "execution_count": 11
    }
   ],
   "source": [
    "get_info_by_name(m, \"reload_query/NotEqual\")"
   ]
  },
  {
   "cell_type": "code",
   "execution_count": null,
   "metadata": {},
   "outputs": [],
   "source": [
    "onnx.save(m, \"qtc211-tf-ipu/qtcv211-wo-kv-int32.onnx\")"
   ]
  },
  {
   "cell_type": "code",
   "execution_count": null,
   "metadata": {},
   "outputs": [],
   "source": [
    "m.graph.node[4]"
   ]
  },
  {
   "cell_type": "code",
   "execution_count": 23,
   "metadata": {},
   "outputs": [
    {
     "output_type": "execute_result",
     "data": {
      "text/plain": [
       "[(9,\n",
       "  input: \"reload_query/concat_int32:0\"\n",
       "  input: \"reload_qt/NotEqual/y:0\"\n",
       "  output: \"reload_query/Equal:0\"\n",
       "  name: \"reload_query/Equal\"\n",
       "  op_type: \"Equal\"),\n",
       " (23,\n",
       "  input: \"reload_query/sub:0\"\n",
       "  input: \"reload_query/concat_int32:0\"\n",
       "  output: \"reload_query/mul_3:0\"\n",
       "  name: \"reload_query/mul_3\"\n",
       "  op_type: \"Mul\")]"
      ]
     },
     "metadata": {},
     "execution_count": 23
    }
   ],
   "source": [
    "[(i, n) for i, n in enumerate(m.graph.node) if \"reload_query/concat_int32:0\" in n.input]"
   ]
  },
  {
   "cell_type": "code",
   "execution_count": 52,
   "metadata": {},
   "outputs": [
    {
     "output_type": "execute_result",
     "data": {
      "text/plain": [
       "[(1777,\n",
       "  input: \"Mul__714:0\"\n",
       "  output: \"reload_query/zeros_like:0\"\n",
       "  name: \"reload_query/zeros_like\"\n",
       "  op_type: \"Cast\"\n",
       "  attribute {\n",
       "    name: \"to\"\n",
       "    i: 6\n",
       "    type: INT\n",
       "  }\n",
       "  domain: \"\")]"
      ]
     },
     "metadata": {},
     "execution_count": 52
    }
   ],
   "source": [
    "[(i, n) for i, n in enumerate(m.graph.node) if \"reload_query/zeros_like\" == n.name]"
   ]
  },
  {
   "cell_type": "code",
   "execution_count": 43,
   "metadata": {},
   "outputs": [
    {
     "output_type": "execute_result",
     "data": {
      "text/plain": [
       "[(25,\n",
       "  data_type: 6\n",
       "  name: \"reload_query/mul_2/y:0\"\n",
       "  raw_data: \"f\\000\\000\\000\\000\\000\\000\\000\")]"
      ]
     },
     "metadata": {},
     "execution_count": 43
    }
   ],
   "source": [
    "[(i, init) for i, init in enumerate(m.graph.initializer) if \"reload_query/mul_2/y:0\" == init.name]"
   ]
  },
  {
   "cell_type": "code",
   "execution_count": 51,
   "metadata": {},
   "outputs": [],
   "source": [
    "m.graph.node[1777].attribute[0].i = 6"
   ]
  },
  {
   "cell_type": "code",
   "execution_count": 19,
   "metadata": {},
   "outputs": [],
   "source": [
    "m.graph.node[22].input[1] = \"reload_query/concat_int32:0\""
   ]
  },
  {
   "cell_type": "code",
   "execution_count": null,
   "metadata": {},
   "outputs": [],
   "source": [
    "m.graph.node[7]"
   ]
  },
  {
   "cell_type": "code",
   "execution_count": 42,
   "metadata": {},
   "outputs": [],
   "source": [
    "m.graph.initializer[25].data_type = 6"
   ]
  },
  {
   "cell_type": "code",
   "execution_count": 28,
   "metadata": {},
   "outputs": [],
   "source": [
    "m.graph.node.insert(9, make_node(\"Cast\", inputs=[\"reload_query/concat:0\"], outputs=[\"reload_query/concat_int32:0\"], to = 6))"
   ]
  },
  {
   "cell_type": "code",
   "execution_count": 26,
   "metadata": {},
   "outputs": [],
   "source": [
    "m.graph.node.remove(m.graph.node[6])"
   ]
  },
  {
   "cell_type": "code",
   "execution_count": 54,
   "metadata": {},
   "outputs": [],
   "source": [
    "onnx.save(m, \"qtc211-tf-ipu/qtcv211-int32-manual.onnx\")"
   ]
  },
  {
   "cell_type": "code",
   "execution_count": null,
   "metadata": {},
   "outputs": [],
   "source": []
  }
 ],
 "metadata": {
  "kernelspec": {
   "display_name": "Python 3",
   "language": "python",
   "name": "python3"
  }
 },
 "nbformat": 4,
 "nbformat_minor": 5
}