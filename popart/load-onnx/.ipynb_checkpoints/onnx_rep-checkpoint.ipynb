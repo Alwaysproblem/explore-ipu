{
 "cells": [
  {
   "cell_type": "code",
   "execution_count": 7,
   "metadata": {},
   "outputs": [],
   "source": [
    "import onnx\n",
    "# import onnxruntime as ort\n",
    "from onnx.helper import make_node, make_attribute, make_model, make_tensor, make_graph, make_tensor_value_info\n",
    "from onnx import TensorProto, SparseTensorProto, AttributeProto, ValueInfoProto, \\\n",
    "    TensorShapeProto, NodeProto, ModelProto, GraphProto, OperatorSetIdProto, \\\n",
    "    TypeProto, SequenceProto, MapProto, IR_VERSION\n",
    "import numpy as np"
   ]
  },
  {
   "cell_type": "code",
   "execution_count": 15,
   "metadata": {},
   "outputs": [
    {
     "data": {
      "text/plain": [
       "name: \"TensorDict/StandardKvParser_7:0\"\n",
       "type {\n",
       "  tensor_type {\n",
       "    elem_type: 7\n",
       "    shape {\n",
       "      dim {\n",
       "        dim_value: 1\n",
       "      }\n",
       "      dim {\n",
       "        dim_value: 35\n",
       "      }\n",
       "    }\n",
       "  }\n",
       "}"
      ]
     },
     "execution_count": 15,
     "metadata": {},
     "output_type": "execute_result"
    }
   ],
   "source": [
    "inputs = make_tensor_value_info(name=\"TensorDict/StandardKvParser_7:0\", \n",
    "                     elem_type=TensorProto.INT64, shape=[1, 35],)\n",
    "inputs"
   ]
  },
  {
   "cell_type": "code",
   "execution_count": 17,
   "metadata": {},
   "outputs": [
    {
     "data": {
      "text/plain": [
       "name: \"reproducer\"\n",
       "input {\n",
       "  name: \"TensorDict/StandardKvParser_7:0\"\n",
       "  type {\n",
       "    tensor_type {\n",
       "      elem_type: 7\n",
       "      shape {\n",
       "        dim {\n",
       "          dim_value: 1\n",
       "        }\n",
       "        dim {\n",
       "          dim_value: 35\n",
       "        }\n",
       "      }\n",
       "    }\n",
       "  }\n",
       "}"
      ]
     },
     "execution_count": 17,
     "metadata": {},
     "output_type": "execute_result"
    }
   ],
   "source": [
    "graph = make_graph(nodes=[], name=\"reproducer\", inputs=[inputs], outputs = [])\n",
    "graph"
   ]
  },
  {
   "cell_type": "code",
   "execution_count": null,
   "metadata": {},
   "outputs": [],
   "source": [
    "reload_query_strided_slice = make_node(op_type=\"Slice\", inputs=[\"TensorDict/StandardKvParser_7:0\"], name=\"reload_query/strided_slice\")"
   ]
  }
 ],
 "metadata": {
  "kernelspec": {
   "display_name": "Python 3",
   "language": "python",
   "name": "python3"
  },
  "language_info": {
   "codemirror_mode": {
    "name": "ipython",
    "version": 3
   },
   "file_extension": ".py",
   "mimetype": "text/x-python",
   "name": "python",
   "nbconvert_exporter": "python",
   "pygments_lexer": "ipython3",
   "version": "3.6.9"
  }
 },
 "nbformat": 4,
 "nbformat_minor": 2
}
